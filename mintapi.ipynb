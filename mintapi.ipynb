{
 "cells": [
  {
   "cell_type": "code",
   "execution_count": 1,
   "id": "071a16a2",
   "metadata": {},
   "outputs": [],
   "source": [
    "import mintapi\n",
    "import pandas as pd\n",
    "import gspread\n",
    "from df2gspread import df2gspread as d2g\n",
    "from oauth2client.service_account import ServiceAccountCredentials\n",
    "from config import username, password"
   ]
  },
  {
   "cell_type": "code",
   "execution_count": 2,
   "id": "d58bda46",
   "metadata": {},
   "outputs": [],
   "source": [
    "mint = mintapi.Mint(\n",
    "    username,  # Email used to log in to Mint\n",
    "    password,  # Your password used to log in to mint\n",
    "    mfa_method='sms',\n",
    ")"
   ]
  },
  {
   "cell_type": "code",
   "execution_count": 3,
   "id": "c565ed4c",
   "metadata": {},
   "outputs": [
    {
     "data": {
      "text/html": [
       "<div>\n",
       "<style scoped>\n",
       "    .dataframe tbody tr th:only-of-type {\n",
       "        vertical-align: middle;\n",
       "    }\n",
       "\n",
       "    .dataframe tbody tr th {\n",
       "        vertical-align: top;\n",
       "    }\n",
       "\n",
       "    .dataframe thead th {\n",
       "        text-align: right;\n",
       "    }\n",
       "</style>\n",
       "<table border=\"1\" class=\"dataframe\">\n",
       "  <thead>\n",
       "    <tr style=\"text-align: right;\">\n",
       "      <th></th>\n",
       "      <th>date</th>\n",
       "      <th>description</th>\n",
       "      <th>original_description</th>\n",
       "      <th>amount</th>\n",
       "      <th>transaction_type</th>\n",
       "      <th>category</th>\n",
       "      <th>account_name</th>\n",
       "      <th>labels</th>\n",
       "      <th>notes</th>\n",
       "    </tr>\n",
       "  </thead>\n",
       "  <tbody>\n",
       "    <tr>\n",
       "      <th>0</th>\n",
       "      <td>2022-04-26</td>\n",
       "      <td>Tax-Loss Harvesting</td>\n",
       "      <td>Tax-Loss Harvesting</td>\n",
       "      <td>0.68</td>\n",
       "      <td>credit</td>\n",
       "      <td>investments</td>\n",
       "      <td>My Personal Investment Account</td>\n",
       "      <td>NaN</td>\n",
       "      <td>NaN</td>\n",
       "    </tr>\n",
       "    <tr>\n",
       "      <th>1</th>\n",
       "      <td>2022-04-25</td>\n",
       "      <td>ATHENE LIFE POL PREM 2301610776 MIKAELA KLEIN</td>\n",
       "      <td>ATHENE LIFE      POL PREM          2301610776 ...</td>\n",
       "      <td>29.24</td>\n",
       "      <td>debit</td>\n",
       "      <td>life insurance</td>\n",
       "      <td>MIKAELA NEW CHK</td>\n",
       "      <td>NaN</td>\n",
       "      <td>NaN</td>\n",
       "    </tr>\n",
       "    <tr>\n",
       "      <th>2</th>\n",
       "      <td>2022-04-25</td>\n",
       "      <td>Dish N Dash</td>\n",
       "      <td>Dish n dash</td>\n",
       "      <td>20.00</td>\n",
       "      <td>credit</td>\n",
       "      <td>restaurants</td>\n",
       "      <td>Venmo</td>\n",
       "      <td>NaN</td>\n",
       "      <td>NaN</td>\n",
       "    </tr>\n",
       "    <tr>\n",
       "      <th>3</th>\n",
       "      <td>2022-04-25</td>\n",
       "      <td>Groceries Whole Foods</td>\n",
       "      <td>Groceries Whole Foods &amp; Mexican market</td>\n",
       "      <td>50.73</td>\n",
       "      <td>credit</td>\n",
       "      <td>groceries</td>\n",
       "      <td>Venmo</td>\n",
       "      <td>NaN</td>\n",
       "      <td>NaN</td>\n",
       "    </tr>\n",
       "    <tr>\n",
       "      <th>4</th>\n",
       "      <td>2022-04-25</td>\n",
       "      <td>Tax-Loss Harvesting</td>\n",
       "      <td>Tax-Loss Harvesting</td>\n",
       "      <td>5.47</td>\n",
       "      <td>credit</td>\n",
       "      <td>investments</td>\n",
       "      <td>My Personal Investment Account</td>\n",
       "      <td>NaN</td>\n",
       "      <td>NaN</td>\n",
       "    </tr>\n",
       "  </tbody>\n",
       "</table>\n",
       "</div>"
      ],
      "text/plain": [
       "        date                                    description  \\\n",
       "0 2022-04-26                            Tax-Loss Harvesting   \n",
       "1 2022-04-25  ATHENE LIFE POL PREM 2301610776 MIKAELA KLEIN   \n",
       "2 2022-04-25                                    Dish N Dash   \n",
       "3 2022-04-25                          Groceries Whole Foods   \n",
       "4 2022-04-25                            Tax-Loss Harvesting   \n",
       "\n",
       "                                original_description  amount transaction_type  \\\n",
       "0                                Tax-Loss Harvesting    0.68           credit   \n",
       "1  ATHENE LIFE      POL PREM          2301610776 ...   29.24            debit   \n",
       "2                                        Dish n dash   20.00           credit   \n",
       "3             Groceries Whole Foods & Mexican market   50.73           credit   \n",
       "4                                Tax-Loss Harvesting    5.47           credit   \n",
       "\n",
       "         category                    account_name  labels notes  \n",
       "0     investments  My Personal Investment Account     NaN   NaN  \n",
       "1  life insurance                 MIKAELA NEW CHK     NaN   NaN  \n",
       "2     restaurants                           Venmo     NaN   NaN  \n",
       "3       groceries                           Venmo     NaN   NaN  \n",
       "4     investments  My Personal Investment Account     NaN   NaN  "
      ]
     },
     "execution_count": 3,
     "metadata": {},
     "output_type": "execute_result"
    }
   ],
   "source": [
    "transactions = mint.get_transactions(include_investment=True)\n",
    "transactions.head()"
   ]
  },
  {
   "cell_type": "code",
   "execution_count": 4,
   "id": "c7252f7b",
   "metadata": {},
   "outputs": [],
   "source": [
    "scope = ['https://spreadsheets.google.com/feeds']\n",
    "creds = ServiceAccountCredentials.from_json_keyfile_name('mint-348223-39d16dcaec97.json', scope)\n",
    "client = gspread.authorize(creds)"
   ]
  },
  {
   "cell_type": "code",
   "execution_count": 5,
   "id": "b37dbb05",
   "metadata": {},
   "outputs": [
    {
     "data": {
      "text/plain": [
       "<Worksheet 'RAW_DATA' id:1417415177>"
      ]
     },
     "execution_count": 5,
     "metadata": {},
     "output_type": "execute_result"
    }
   ],
   "source": [
    "# Send the data to google sheets\n",
    "spreadsheet_key = \"19GLQzbk8FN3hI4YQpx2bVElgmBdhMqhgoPhKBfDDNg4\"\n",
    "d2g.upload(transactions,spreadsheet_key,\"RAW_DATA\",credentials=creds,row_names=True)"
   ]
  },
  {
   "cell_type": "code",
   "execution_count": 11,
   "id": "df343c03",
   "metadata": {},
   "outputs": [],
   "source": [
    "mint.close()"
   ]
  }
 ],
 "metadata": {
  "kernelspec": {
   "display_name": "Python 3 (ipykernel)",
   "language": "python",
   "name": "python3"
  },
  "language_info": {
   "codemirror_mode": {
    "name": "ipython",
    "version": 3
   },
   "file_extension": ".py",
   "mimetype": "text/x-python",
   "name": "python",
   "nbconvert_exporter": "python",
   "pygments_lexer": "ipython3",
   "version": "3.9.10"
  }
 },
 "nbformat": 4,
 "nbformat_minor": 5
}
